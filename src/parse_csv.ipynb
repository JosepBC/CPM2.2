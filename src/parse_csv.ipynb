{
 "cells": [
  {
   "cell_type": "code",
   "execution_count": 1,
   "metadata": {},
   "outputs": [],
   "source": [
    "import pandas as pd"
   ]
  },
  {
   "cell_type": "markdown",
   "metadata": {},
   "source": [
    "# Times and speedup"
   ]
  },
  {
   "cell_type": "code",
   "execution_count": 3,
   "metadata": {},
   "outputs": [
    {
     "data": {
      "text/html": [
       "<div>\n",
       "<style scoped>\n",
       "    .dataframe tbody tr th:only-of-type {\n",
       "        vertical-align: middle;\n",
       "    }\n",
       "\n",
       "    .dataframe tbody tr th {\n",
       "        vertical-align: top;\n",
       "    }\n",
       "\n",
       "    .dataframe thead th {\n",
       "        text-align: right;\n",
       "    }\n",
       "</style>\n",
       "<table border=\"1\" class=\"dataframe\">\n",
       "  <thead>\n",
       "    <tr style=\"text-align: right;\">\n",
       "      <th></th>\n",
       "      <th>file_name</th>\n",
       "      <th>time</th>\n",
       "      <th>procs_per_node</th>\n",
       "      <th>nodes</th>\n",
       "    </tr>\n",
       "  </thead>\n",
       "  <tbody>\n",
       "    <tr>\n",
       "      <th>0</th>\n",
       "      <td>1_2_2</td>\n",
       "      <td>192.55</td>\n",
       "      <td>1</td>\n",
       "      <td>2</td>\n",
       "    </tr>\n",
       "    <tr>\n",
       "      <th>1</th>\n",
       "      <td>1_4_4</td>\n",
       "      <td>98.57</td>\n",
       "      <td>1</td>\n",
       "      <td>4</td>\n",
       "    </tr>\n",
       "    <tr>\n",
       "      <th>2</th>\n",
       "      <td>1_8_8</td>\n",
       "      <td>51.94</td>\n",
       "      <td>1</td>\n",
       "      <td>8</td>\n",
       "    </tr>\n",
       "    <tr>\n",
       "      <th>3</th>\n",
       "      <td>2_2_4</td>\n",
       "      <td>98.61</td>\n",
       "      <td>2</td>\n",
       "      <td>2</td>\n",
       "    </tr>\n",
       "    <tr>\n",
       "      <th>4</th>\n",
       "      <td>2_4_8</td>\n",
       "      <td>51.95</td>\n",
       "      <td>2</td>\n",
       "      <td>4</td>\n",
       "    </tr>\n",
       "    <tr>\n",
       "      <th>5</th>\n",
       "      <td>2_8_16</td>\n",
       "      <td>28.66</td>\n",
       "      <td>2</td>\n",
       "      <td>8</td>\n",
       "    </tr>\n",
       "    <tr>\n",
       "      <th>6</th>\n",
       "      <td>3_4_12</td>\n",
       "      <td>36.29</td>\n",
       "      <td>3</td>\n",
       "      <td>4</td>\n",
       "    </tr>\n",
       "    <tr>\n",
       "      <th>7</th>\n",
       "      <td>3_8_24</td>\n",
       "      <td>20.78</td>\n",
       "      <td>3</td>\n",
       "      <td>8</td>\n",
       "    </tr>\n",
       "    <tr>\n",
       "      <th>8</th>\n",
       "      <td>4_16_64</td>\n",
       "      <td>17.23</td>\n",
       "      <td>4</td>\n",
       "      <td>16</td>\n",
       "    </tr>\n",
       "    <tr>\n",
       "      <th>9</th>\n",
       "      <td>4_32_128</td>\n",
       "      <td>27.75</td>\n",
       "      <td>4</td>\n",
       "      <td>32</td>\n",
       "    </tr>\n",
       "    <tr>\n",
       "      <th>10</th>\n",
       "      <td>4_8_32</td>\n",
       "      <td>16.78</td>\n",
       "      <td>4</td>\n",
       "      <td>8</td>\n",
       "    </tr>\n",
       "  </tbody>\n",
       "</table>\n",
       "</div>"
      ],
      "text/plain": [
       "   file_name    time  procs_per_node  nodes\n",
       "0      1_2_2  192.55               1      2\n",
       "1      1_4_4   98.57               1      4\n",
       "2      1_8_8   51.94               1      8\n",
       "3      2_2_4   98.61               2      2\n",
       "4      2_4_8   51.95               2      4\n",
       "5     2_8_16   28.66               2      8\n",
       "6     3_4_12   36.29               3      4\n",
       "7     3_8_24   20.78               3      8\n",
       "8    4_16_64   17.23               4     16\n",
       "9   4_32_128   27.75               4     32\n",
       "10    4_8_32   16.78               4      8"
      ]
     },
     "execution_count": 3,
     "metadata": {},
     "output_type": "execute_result"
    }
   ],
   "source": [
    "df = pd.read_csv(\"../out/data.csv\", delimiter=\";\")\n",
    "df"
   ]
  },
  {
   "cell_type": "code",
   "execution_count": 4,
   "metadata": {},
   "outputs": [],
   "source": [
    "base_time = 362"
   ]
  },
  {
   "cell_type": "code",
   "execution_count": 6,
   "metadata": {},
   "outputs": [
    {
     "data": {
      "text/html": [
       "<div>\n",
       "<style scoped>\n",
       "    .dataframe tbody tr th:only-of-type {\n",
       "        vertical-align: middle;\n",
       "    }\n",
       "\n",
       "    .dataframe tbody tr th {\n",
       "        vertical-align: top;\n",
       "    }\n",
       "\n",
       "    .dataframe thead th {\n",
       "        text-align: right;\n",
       "    }\n",
       "</style>\n",
       "<table border=\"1\" class=\"dataframe\">\n",
       "  <thead>\n",
       "    <tr style=\"text-align: right;\">\n",
       "      <th></th>\n",
       "      <th>file_name</th>\n",
       "      <th>time</th>\n",
       "      <th>procs_per_node</th>\n",
       "      <th>nodes</th>\n",
       "      <th>speedup</th>\n",
       "    </tr>\n",
       "  </thead>\n",
       "  <tbody>\n",
       "    <tr>\n",
       "      <th>0</th>\n",
       "      <td>1_2_2</td>\n",
       "      <td>192.55</td>\n",
       "      <td>1</td>\n",
       "      <td>2</td>\n",
       "      <td>1.880031</td>\n",
       "    </tr>\n",
       "    <tr>\n",
       "      <th>1</th>\n",
       "      <td>1_4_4</td>\n",
       "      <td>98.57</td>\n",
       "      <td>1</td>\n",
       "      <td>4</td>\n",
       "      <td>3.672517</td>\n",
       "    </tr>\n",
       "    <tr>\n",
       "      <th>2</th>\n",
       "      <td>1_8_8</td>\n",
       "      <td>51.94</td>\n",
       "      <td>1</td>\n",
       "      <td>8</td>\n",
       "      <td>6.969580</td>\n",
       "    </tr>\n",
       "    <tr>\n",
       "      <th>3</th>\n",
       "      <td>2_2_4</td>\n",
       "      <td>98.61</td>\n",
       "      <td>2</td>\n",
       "      <td>2</td>\n",
       "      <td>3.671027</td>\n",
       "    </tr>\n",
       "    <tr>\n",
       "      <th>4</th>\n",
       "      <td>2_4_8</td>\n",
       "      <td>51.95</td>\n",
       "      <td>2</td>\n",
       "      <td>4</td>\n",
       "      <td>6.968239</td>\n",
       "    </tr>\n",
       "    <tr>\n",
       "      <th>5</th>\n",
       "      <td>2_8_16</td>\n",
       "      <td>28.66</td>\n",
       "      <td>2</td>\n",
       "      <td>8</td>\n",
       "      <td>12.630844</td>\n",
       "    </tr>\n",
       "    <tr>\n",
       "      <th>6</th>\n",
       "      <td>3_4_12</td>\n",
       "      <td>36.29</td>\n",
       "      <td>3</td>\n",
       "      <td>4</td>\n",
       "      <td>9.975200</td>\n",
       "    </tr>\n",
       "    <tr>\n",
       "      <th>7</th>\n",
       "      <td>3_8_24</td>\n",
       "      <td>20.78</td>\n",
       "      <td>3</td>\n",
       "      <td>8</td>\n",
       "      <td>17.420597</td>\n",
       "    </tr>\n",
       "    <tr>\n",
       "      <th>8</th>\n",
       "      <td>4_16_64</td>\n",
       "      <td>17.23</td>\n",
       "      <td>4</td>\n",
       "      <td>16</td>\n",
       "      <td>21.009867</td>\n",
       "    </tr>\n",
       "    <tr>\n",
       "      <th>9</th>\n",
       "      <td>4_32_128</td>\n",
       "      <td>27.75</td>\n",
       "      <td>4</td>\n",
       "      <td>32</td>\n",
       "      <td>13.045045</td>\n",
       "    </tr>\n",
       "    <tr>\n",
       "      <th>10</th>\n",
       "      <td>4_8_32</td>\n",
       "      <td>16.78</td>\n",
       "      <td>4</td>\n",
       "      <td>8</td>\n",
       "      <td>21.573302</td>\n",
       "    </tr>\n",
       "  </tbody>\n",
       "</table>\n",
       "</div>"
      ],
      "text/plain": [
       "   file_name    time  procs_per_node  nodes    speedup\n",
       "0      1_2_2  192.55               1      2   1.880031\n",
       "1      1_4_4   98.57               1      4   3.672517\n",
       "2      1_8_8   51.94               1      8   6.969580\n",
       "3      2_2_4   98.61               2      2   3.671027\n",
       "4      2_4_8   51.95               2      4   6.968239\n",
       "5     2_8_16   28.66               2      8  12.630844\n",
       "6     3_4_12   36.29               3      4   9.975200\n",
       "7     3_8_24   20.78               3      8  17.420597\n",
       "8    4_16_64   17.23               4     16  21.009867\n",
       "9   4_32_128   27.75               4     32  13.045045\n",
       "10    4_8_32   16.78               4      8  21.573302"
      ]
     },
     "execution_count": 6,
     "metadata": {},
     "output_type": "execute_result"
    }
   ],
   "source": [
    "df[\"speedup\"] = base_time / df[\"time\"]\n",
    "df"
   ]
  },
  {
   "cell_type": "code",
   "execution_count": 8,
   "metadata": {},
   "outputs": [
    {
     "name": "stdout",
     "output_type": "stream",
     "text": [
      "Max speedup = 21.573301549463647\n",
      "Min time = 16.78 seconds\n"
     ]
    }
   ],
   "source": [
    "print(\"Max speedup = \" + str(max(df[\"speedup\"])))\n",
    "print(\"Min time = \" + str(min(df[\"time\"]))+\" seconds\")"
   ]
  },
  {
   "cell_type": "code",
   "execution_count": 10,
   "metadata": {},
   "outputs": [
    {
     "name": "stdout",
     "output_type": "stream",
     "text": [
      "Min speedup = 1.8800311607374707\n",
      "Max time = 192.55 seconds\n"
     ]
    }
   ],
   "source": [
    "print(\"Min speedup = \" + str(min(df[\"speedup\"])))\n",
    "print(\"Max time = \" + str(max(df[\"time\"]))+\" seconds\")"
   ]
  },
  {
   "cell_type": "code",
   "execution_count": 11,
   "metadata": {},
   "outputs": [],
   "source": [
    "df.to_csv(\"../out/processed_data.csv\")"
   ]
  }
 ],
 "metadata": {
  "interpreter": {
   "hash": "31f2aee4e71d21fbe5cf8b01ff0e069b9275f58929596ceb00d14d90e3e16cd6"
  },
  "kernelspec": {
   "display_name": "Python 3.8.10 64-bit",
   "language": "python",
   "name": "python3"
  },
  "language_info": {
   "codemirror_mode": {
    "name": "ipython",
    "version": 3
   },
   "file_extension": ".py",
   "mimetype": "text/x-python",
   "name": "python",
   "nbconvert_exporter": "python",
   "pygments_lexer": "ipython3",
   "version": "3.8.10"
  },
  "orig_nbformat": 4
 },
 "nbformat": 4,
 "nbformat_minor": 2
}
