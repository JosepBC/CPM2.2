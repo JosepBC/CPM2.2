{
 "cells": [
  {
   "cell_type": "code",
   "execution_count": 1,
   "metadata": {},
   "outputs": [],
   "source": [
    "import pandas as pd"
   ]
  },
  {
   "cell_type": "markdown",
   "metadata": {},
   "source": [
    "# Times and speedup"
   ]
  },
  {
   "cell_type": "code",
   "execution_count": 3,
   "metadata": {},
   "outputs": [
    {
     "data": {
      "text/html": [
       "<div>\n",
       "<style scoped>\n",
       "    .dataframe tbody tr th:only-of-type {\n",
       "        vertical-align: middle;\n",
       "    }\n",
       "\n",
       "    .dataframe tbody tr th {\n",
       "        vertical-align: top;\n",
       "    }\n",
       "\n",
       "    .dataframe thead th {\n",
       "        text-align: right;\n",
       "    }\n",
       "</style>\n",
       "<table border=\"1\" class=\"dataframe\">\n",
       "  <thead>\n",
       "    <tr style=\"text-align: right;\">\n",
       "      <th></th>\n",
       "      <th>file_name</th>\n",
       "      <th>time</th>\n",
       "      <th>procs_per_node</th>\n",
       "      <th>nodes</th>\n",
       "    </tr>\n",
       "  </thead>\n",
       "  <tbody>\n",
       "    <tr>\n",
       "      <th>0</th>\n",
       "      <td>1_64_64</td>\n",
       "      <td>15.31</td>\n",
       "      <td>1</td>\n",
       "      <td>64</td>\n",
       "    </tr>\n",
       "    <tr>\n",
       "      <th>1</th>\n",
       "      <td>2_32_64</td>\n",
       "      <td>15.33</td>\n",
       "      <td>2</td>\n",
       "      <td>32</td>\n",
       "    </tr>\n",
       "    <tr>\n",
       "      <th>2</th>\n",
       "      <td>2_64_128</td>\n",
       "      <td>10.72</td>\n",
       "      <td>2</td>\n",
       "      <td>64</td>\n",
       "    </tr>\n",
       "    <tr>\n",
       "      <th>3</th>\n",
       "      <td>4_16_64</td>\n",
       "      <td>15.32</td>\n",
       "      <td>4</td>\n",
       "      <td>16</td>\n",
       "    </tr>\n",
       "    <tr>\n",
       "      <th>4</th>\n",
       "      <td>4_32_128</td>\n",
       "      <td>10.67</td>\n",
       "      <td>4</td>\n",
       "      <td>32</td>\n",
       "    </tr>\n",
       "    <tr>\n",
       "      <th>5</th>\n",
       "      <td>4_64_256</td>\n",
       "      <td>9.17</td>\n",
       "      <td>4</td>\n",
       "      <td>64</td>\n",
       "    </tr>\n",
       "  </tbody>\n",
       "</table>\n",
       "</div>"
      ],
      "text/plain": [
       "  file_name   time  procs_per_node  nodes\n",
       "0   1_64_64  15.31               1     64\n",
       "1   2_32_64  15.33               2     32\n",
       "2  2_64_128  10.72               2     64\n",
       "3   4_16_64  15.32               4     16\n",
       "4  4_32_128  10.67               4     32\n",
       "5  4_64_256   9.17               4     64"
      ]
     },
     "execution_count": 3,
     "metadata": {},
     "output_type": "execute_result"
    }
   ],
   "source": [
    "df = pd.read_csv(\"../out/dos6/data.csv\", delimiter=\";\")\n",
    "df"
   ]
  },
  {
   "cell_type": "code",
   "execution_count": 4,
   "metadata": {},
   "outputs": [],
   "source": [
    "base_time = 664"
   ]
  },
  {
   "cell_type": "code",
   "execution_count": 5,
   "metadata": {},
   "outputs": [
    {
     "data": {
      "text/html": [
       "<div>\n",
       "<style scoped>\n",
       "    .dataframe tbody tr th:only-of-type {\n",
       "        vertical-align: middle;\n",
       "    }\n",
       "\n",
       "    .dataframe tbody tr th {\n",
       "        vertical-align: top;\n",
       "    }\n",
       "\n",
       "    .dataframe thead th {\n",
       "        text-align: right;\n",
       "    }\n",
       "</style>\n",
       "<table border=\"1\" class=\"dataframe\">\n",
       "  <thead>\n",
       "    <tr style=\"text-align: right;\">\n",
       "      <th></th>\n",
       "      <th>file_name</th>\n",
       "      <th>time</th>\n",
       "      <th>procs_per_node</th>\n",
       "      <th>nodes</th>\n",
       "      <th>speedup</th>\n",
       "    </tr>\n",
       "  </thead>\n",
       "  <tbody>\n",
       "    <tr>\n",
       "      <th>0</th>\n",
       "      <td>1_64_64</td>\n",
       "      <td>15.31</td>\n",
       "      <td>1</td>\n",
       "      <td>64</td>\n",
       "      <td>43.370346</td>\n",
       "    </tr>\n",
       "    <tr>\n",
       "      <th>1</th>\n",
       "      <td>2_32_64</td>\n",
       "      <td>15.33</td>\n",
       "      <td>2</td>\n",
       "      <td>32</td>\n",
       "      <td>43.313764</td>\n",
       "    </tr>\n",
       "    <tr>\n",
       "      <th>2</th>\n",
       "      <td>2_64_128</td>\n",
       "      <td>10.72</td>\n",
       "      <td>2</td>\n",
       "      <td>64</td>\n",
       "      <td>61.940299</td>\n",
       "    </tr>\n",
       "    <tr>\n",
       "      <th>3</th>\n",
       "      <td>4_16_64</td>\n",
       "      <td>15.32</td>\n",
       "      <td>4</td>\n",
       "      <td>16</td>\n",
       "      <td>43.342037</td>\n",
       "    </tr>\n",
       "    <tr>\n",
       "      <th>4</th>\n",
       "      <td>4_32_128</td>\n",
       "      <td>10.67</td>\n",
       "      <td>4</td>\n",
       "      <td>32</td>\n",
       "      <td>62.230553</td>\n",
       "    </tr>\n",
       "    <tr>\n",
       "      <th>5</th>\n",
       "      <td>4_64_256</td>\n",
       "      <td>9.17</td>\n",
       "      <td>4</td>\n",
       "      <td>64</td>\n",
       "      <td>72.410033</td>\n",
       "    </tr>\n",
       "  </tbody>\n",
       "</table>\n",
       "</div>"
      ],
      "text/plain": [
       "  file_name   time  procs_per_node  nodes    speedup\n",
       "0   1_64_64  15.31               1     64  43.370346\n",
       "1   2_32_64  15.33               2     32  43.313764\n",
       "2  2_64_128  10.72               2     64  61.940299\n",
       "3   4_16_64  15.32               4     16  43.342037\n",
       "4  4_32_128  10.67               4     32  62.230553\n",
       "5  4_64_256   9.17               4     64  72.410033"
      ]
     },
     "execution_count": 5,
     "metadata": {},
     "output_type": "execute_result"
    }
   ],
   "source": [
    "df[\"speedup\"] = base_time / df[\"time\"]\n",
    "df"
   ]
  },
  {
   "cell_type": "code",
   "execution_count": 6,
   "metadata": {},
   "outputs": [
    {
     "name": "stdout",
     "output_type": "stream",
     "text": [
      "Max speedup = 72.41003271537623\n",
      "Min time = 9.17 seconds\n"
     ]
    }
   ],
   "source": [
    "print(\"Max speedup = \" + str(max(df[\"speedup\"])))\n",
    "print(\"Min time = \" + str(min(df[\"time\"]))+\" seconds\")"
   ]
  },
  {
   "cell_type": "code",
   "execution_count": 7,
   "metadata": {},
   "outputs": [
    {
     "name": "stdout",
     "output_type": "stream",
     "text": [
      "Min speedup = 43.31376386170907\n",
      "Max time = 15.33 seconds\n"
     ]
    }
   ],
   "source": [
    "print(\"Min speedup = \" + str(min(df[\"speedup\"])))\n",
    "print(\"Max time = \" + str(max(df[\"time\"]))+\" seconds\")"
   ]
  },
  {
   "cell_type": "code",
   "execution_count": 8,
   "metadata": {},
   "outputs": [],
   "source": [
    "df.to_csv(\"../out/dos6/processed_data.csv\")"
   ]
  }
 ],
 "metadata": {
  "interpreter": {
   "hash": "31f2aee4e71d21fbe5cf8b01ff0e069b9275f58929596ceb00d14d90e3e16cd6"
  },
  "kernelspec": {
   "display_name": "Python 3.8.10 64-bit",
   "language": "python",
   "name": "python3"
  },
  "language_info": {
   "codemirror_mode": {
    "name": "ipython",
    "version": 3
   },
   "file_extension": ".py",
   "mimetype": "text/x-python",
   "name": "python",
   "nbconvert_exporter": "python",
   "pygments_lexer": "ipython3",
   "version": "3.8.10"
  },
  "orig_nbformat": 4
 },
 "nbformat": 4,
 "nbformat_minor": 2
}
